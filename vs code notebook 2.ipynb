{
 "cells": [
  {
   "cell_type": "markdown",
   "metadata": {},
   "source": [
    "Given two numbers a nd b,find a/b (b could be zero)"
   ]
  },
  {
   "cell_type": "code",
   "execution_count": 3,
   "metadata": {},
   "outputs": [
    {
     "name": "stdout",
     "output_type": "stream",
     "text": [
      "0.5\n"
     ]
    }
   ],
   "source": [
    "a=float(input(\"enter the first no.\"))\n",
    "b=float(input(\"enter the second no.\"))\n",
    "if b==0:\n",
    "    print(\"solution undefined\") #here output is undefined because we can not divide any no. by 0.\n",
    "else:\n",
    "    c=a/b\n",
    "    print(c)\n",
    "#program finished!\n"
   ]
  },
  {
   "cell_type": "markdown",
   "metadata": {},
   "source": [
    "Given a point in 2 D space,find the quadrant in which it lies"
   ]
  },
  {
   "cell_type": "code",
   "execution_count": 5,
   "metadata": {},
   "outputs": [
    {
     "name": "stdout",
     "output_type": "stream",
     "text": [
      "given point lies in the fourth quadrant\n"
     ]
    }
   ],
   "source": [
    "a=float(input(\"enter the x coordinate of that point\"))\n",
    "b=float(input(\"enter the y coordinate of that point\"))\n",
    "if a==0:\n",
    "    if b==0:\n",
    "        print(\"given point lies on the origin\") #if given point is (0,0)\n",
    "    elif b>0:\n",
    "        print(\"given point lies on the positive y-axis\") #if given point is of the form (0,+ve)\n",
    "    else:\n",
    "        print(\"given point lies on the negative y-axis\")#if given point is of the form (0,-ve)\n",
    "elif a>0:\n",
    "    if b==0:\n",
    "        print(\"given point lies on the positive x-axis\") #if given point is of the form (+ve,0)\n",
    "    elif b>0:\n",
    "        print(\"this point lies in first quadrant\")#if given point is of the form (+ve,+ve)\n",
    "    else:\n",
    "        print(\"given point lies in the fourth quadrant\")#if given point is of the form (+ve,-ve)\n",
    "elif a<0:\n",
    "    if b==0:\n",
    "        print(\"given point lies on the negative x-axis\")#if given point is of the form (-ve,0)\n",
    "    elif b>0:\n",
    "        print(\"this point lies in second quadrant\")#if given point is of the form (-ve,+ve)\n",
    "    else:\n",
    "        print(\"given point lies in the third quadrant\")#if given point is of the form (-ve,--ve)\n",
    "#program finished!\n"
   ]
  },
  {
   "cell_type": "markdown",
   "metadata": {},
   "source": [
    "Given two points in 2D space,find the slope and y- intercept of the line joining them. conside all cases"
   ]
  },
  {
   "cell_type": "code",
   "execution_count": 6,
   "metadata": {},
   "outputs": [
    {
     "name": "stdout",
     "output_type": "stream",
     "text": [
      "slope is not defined\n",
      "line do not cut the y axis ,so there is no y intercept\n"
     ]
    }
   ],
   "source": [
    "x1=float(input(\"enter the x coor. of first point\"))\n",
    "y1=float(input(\"enter the y coor. of first point\"))\n",
    "x2=float(input(\"enter the x coor. o f second point\"))\n",
    "y2=float(input(\"enter the y coor . of second point\"))\n",
    "b=y2-y1\n",
    "a=x2-x1\n",
    "if a==0:#if difference between x-coor. of the given points=0\n",
    "    print(\"slope is not defined\")#because divisor is 0.\n",
    "    print(\"line do not cut the y axis ,so there is no y intercept\")\n",
    "elif b==0:#if diff. between y-coor. of the given points =0\n",
    "    c=b/a #slope of any line=difference b/w y-coor./difference b/w x-coor.\n",
    "    print(\"slope=\",c)\n",
    "    print(\"y intercept of line =\",y1)# y intercept is how many units a line cut on y- axis\n",
    "else:\n",
    "    c=b/a\n",
    "    print(\"slope=\",c)\n",
    "    x=int(input(\"enter 0\"))\n",
    "    y=c*x+y1-c*x1 #here, we find y-intercept by applying eq. of line\n",
    "    print(\"y intercept of the line=\",y)\n",
    "#program finished!\n",
    "\n"
   ]
  },
  {
   "cell_type": "markdown",
   "metadata": {},
   "source": [
    "Given a temp. in fahrenheit,convert it to celsius.If the temp. is below 10 degree celcius output cold , between 10 and 25 output pleasant , between 25 and 35 output warm and above 36 output warm."
   ]
  },
  {
   "cell_type": "code",
   "execution_count": 7,
   "metadata": {},
   "outputs": [
    {
     "name": "stdout",
     "output_type": "stream",
     "text": [
      "cold\n"
     ]
    }
   ],
   "source": [
    "F=float(input(\"enter the temp. in fahrenheit\"))\n",
    "#here we convert temp from fahrenheit to celcius by using formula given below\n",
    "C=(F-32)*(5/9)\n",
    "#now we have to print whether is cold,pleasant,warm or hot after fulfilling some conditions\n",
    "if C<10:\n",
    "    print(\"cold\")\n",
    "elif C<25:\n",
    "    print(\"pleasant\")\n",
    "elif C<35:\n",
    "    print(\"warm\")\n",
    "else:\n",
    "    print(\"it is Hot\")\n",
    "#program finished!"
   ]
  },
  {
   "cell_type": "markdown",
   "metadata": {},
   "source": [
    "Given a quad. eq. with coe.a,b,c,find the two solutions (may be real or complex ).You should not take the square root of a -ve no.in your code."
   ]
  },
  {
   "cell_type": "code",
   "execution_count": 8,
   "metadata": {},
   "outputs": [
    {
     "name": "stdout",
     "output_type": "stream",
     "text": [
      "soliutions are: 25.944444444444446 and -27.444444444444446\n"
     ]
    }
   ],
   "source": [
    "a=int(input(\"enter the coefficient of x^2\"))\n",
    "b=int(input(\"enter the coefficient of x\"))\n",
    "c=int(input(\"enter constant term\"))\n",
    "#here we find the discriminant of given quad. eq. by using  formula\n",
    "d=(b**2)-4*a*C\n",
    "#if discriminant is greater than or equal to zero then roots are real\n",
    "if d>=0:\n",
    "    x1=(-b+d)/(2*a)\n",
    "    x2=(-b-d)/(2*a)\n",
    "    print(\"soliutions are:\",x1,\"and\",x2)\n",
    "#if discriminant is smaller than 0 then roots are imaginary\n",
    "else:\n",
    "    a=(-b)/2*a\n",
    "    b1=(d)/2*a\n",
    "    print(\"solution 1st :\",\"real part:\",a,\"im. part\",b1,)\n",
    "    print(\"solution 2nd:\",\"real part:\",a,\"im. part:\",-b1)\n",
    "#program finished!"
   ]
  },
  {
   "cell_type": "markdown",
   "metadata": {},
   "source": [
    "Given three points,find out whether they lie on the same straight line or not."
   ]
  },
  {
   "cell_type": "code",
   "execution_count": 9,
   "metadata": {},
   "outputs": [
    {
     "name": "stdout",
     "output_type": "stream",
     "text": [
      "points P,Q,R are collinear or lie in same line\n"
     ]
    }
   ],
   "source": [
    "x1=int(input(\"enter the x coor. of P\"))\n",
    "y1=int(input(\"enter the y coor. of P\"))\n",
    "x2=int(input(\"enter the x coor. of Q\"))\n",
    "y2=int(input(\"enter the y coor. of Q\"))\n",
    "x3=int(input(\"enter the x coor. of R\"))\n",
    "y3=int(input(\"enter the y coor of R\"))\n",
    "a=x1*(y2-y3)\n",
    "b=x2*(y3-y1)\n",
    "c=x3*(y1-y2)\n",
    "d=1/2*((a+b+c)**0.5)# it is the formula of area enclosed by triangle whose cornor coor. are given.\n",
    "#now, we use the condition of collinearity that if the area enclosed by three points is 0 then these poinnts lie in same line\n",
    "if d==0:\n",
    "    print(\"points P,Q,R are collinear or lie in same line\")\n",
    "else:\n",
    "    print(\"points P,Q,R not lie in the same line\")\n",
    "#program finished!"
   ]
  },
  {
   "cell_type": "code",
   "execution_count": 2,
   "metadata": {},
   "outputs": [
    {
     "name": "stdout",
     "output_type": "stream",
     "text": [
      "weight= 59.2\n"
     ]
    }
   ],
   "source": [
    "#Here we find the actual weight of male & female by taking his /her height as input who has height greater than 60 inches\n",
    "a=int(input(\"enter the gender\"))\n",
    "#for male gender:1, for female gender:0\n",
    "b=float(input('enter the height in inches'))\n",
    "#Here we have to put the height of that person in inches\n",
    "d=b-60\n",
    "#d give how much his/her height above than 60 inches\n",
    "if a==1:\n",
    "    e=52+1.9*d\n",
    "#e defines the weight of a male by robinson formula\n",
    "    print(\"weight=\",e)\n",
    "elif a==0:\n",
    "    f=49+1.7*d\n",
    "#f defines the weight of a female by robinson formula \n",
    "    print(\"weight=\",f)\n",
    "else:\n",
    "    print(\"this program is not valid for you\")\n",
    "#program finished!\n",
    "\n"
   ]
  },
  {
   "cell_type": "code",
   "execution_count": null,
   "metadata": {},
   "outputs": [],
   "source": []
  }
 ],
 "metadata": {
  "kernelspec": {
   "display_name": "Python 3",
   "language": "python",
   "name": "python3"
  },
  "language_info": {
   "codemirror_mode": {
    "name": "ipython",
    "version": 3
   },
   "file_extension": ".py",
   "mimetype": "text/x-python",
   "name": "python",
   "nbconvert_exporter": "python",
   "pygments_lexer": "ipython3",
   "version": "3.11.4"
  },
  "orig_nbformat": 4
 },
 "nbformat": 4,
 "nbformat_minor": 2
}
