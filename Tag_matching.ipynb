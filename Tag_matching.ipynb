{
 "cells": [
  {
   "cell_type": "code",
   "execution_count": 9,
   "metadata": {},
   "outputs": [],
   "source": [
    "import stack_module1\n",
    "def is_matched_html(raw):\n",
    "  \"\"\"Returns True if all HTML tags are properly matched; False otherwise.\"\"\"\n",
    "  S = stack_module1.ArrayStack()\n",
    "  j = raw.find('<')\n",
    "\n",
    "  while j != -1:\n",
    "    k = raw.find('>', j + 1)\n",
    "\n",
    "    if k == -1:\n",
    "      return False\n",
    "\n",
    "    tag = raw[j + 1:k]\n",
    "\n",
    "    if not tag.startswith('/'):\n",
    "      S.push(tag)\n",
    "    else:\n",
    "      if S.is_empty():\n",
    "        return False\n",
    "\n",
    "      if tag[1:] != S.pop():\n",
    "        return False\n",
    "\n",
    "    j = raw.find('<', k + 1)\n",
    "\n",
    "  return S.is_empty()\n"
   ]
  },
  {
   "cell_type": "code",
   "execution_count": 10,
   "metadata": {},
   "outputs": [
    {
     "data": {
      "text/plain": [
       "True"
      ]
     },
     "execution_count": 10,
     "metadata": {},
     "output_type": "execute_result"
    }
   ],
   "source": [
    "is_matched_html('<html></html>')"
   ]
  },
  {
   "cell_type": "code",
   "execution_count": 11,
   "metadata": {},
   "outputs": [],
   "source": [
    "raw=\"<html><head><title>Paragraph in HTML</title></head><body><p>Honesty </p> <p> Honesty is reflected in our words and deeds.</p></body></html>\""
   ]
  },
  {
   "cell_type": "code",
   "execution_count": 12,
   "metadata": {},
   "outputs": [
    {
     "data": {
      "text/plain": [
       "True"
      ]
     },
     "execution_count": 12,
     "metadata": {},
     "output_type": "execute_result"
    }
   ],
   "source": [
    "is_matched_html(raw)"
   ]
  },
  {
   "cell_type": "code",
   "execution_count": 13,
   "metadata": {},
   "outputs": [
    {
     "data": {
      "text/plain": [
       "False"
      ]
     },
     "execution_count": 13,
     "metadata": {},
     "output_type": "execute_result"
    }
   ],
   "source": [
    "is_matched_html('<html>/html>')"
   ]
  },
  {
   "cell_type": "code",
   "execution_count": null,
   "metadata": {},
   "outputs": [],
   "source": []
  }
 ],
 "metadata": {
  "kernelspec": {
   "display_name": "Python 3",
   "language": "python",
   "name": "python3"
  },
  "language_info": {
   "codemirror_mode": {
    "name": "ipython",
    "version": 3
   },
   "file_extension": ".py",
   "mimetype": "text/x-python",
   "name": "python",
   "nbconvert_exporter": "python",
   "pygments_lexer": "ipython3",
   "version": "3.11.4"
  }
 },
 "nbformat": 4,
 "nbformat_minor": 2
}
